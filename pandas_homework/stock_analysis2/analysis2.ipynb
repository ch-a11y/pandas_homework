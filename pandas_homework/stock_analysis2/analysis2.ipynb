{
 "cells": [
  {
   "cell_type": "code",
   "execution_count": 178,
   "metadata": {},
   "outputs": [],
   "source": [
    "import pandas as pd\n",
    "import numpy as np\n",
    "import datetime as dt\n",
    "from pathlib import Path\n",
    "import seaborn as sns\n",
    "\n",
    "%matplotlib inline"
   ]
  },
  {
   "cell_type": "code",
   "execution_count": 179,
   "metadata": {},
   "outputs": [],
   "source": [
    "brkb_path = Path(\"brkb.csv\")\n",
    "voo_path = Path(\"voo.csv\")\n",
    "vz_path = Path(\"vz.csv\")\n",
    "spy_path = Path(\"spy.csv\")\n",
    "ccl_path = Path(\"ccl.csv\")\n",
    "\n",
    "brkb_df = pd.read_csv(brkb_path, index_col=\"Date\", parse_dates=True, infer_datetime_format=True)\n",
    "voo_df = pd.read_csv(voo_path, index_col=\"Date\", parse_dates=True, infer_datetime_format=True)\n",
    "vz_df = pd.read_csv(vz_path, index_col=\"Date\", parse_dates=True, infer_datetime_format=True)\n",
    "spy_df = pd.read_csv(spy_path, index_col=\"Date\", parse_dates=True, infer_datetime_format=True)\n",
    "ccl_df = pd.read_csv(ccl_path, index_col=\"Date\", parse_dates=True, infer_datetime_format=True)\n",
    "\n",
    "sp500_path = Path(\"sp500.csv\")\n",
    "sp500_df = pd.read_csv(sp500_path, index_col=\"Date\", parse_dates=True, infer_datetime_format=True)"
   ]
  },
  {
   "cell_type": "code",
   "execution_count": 180,
   "metadata": {},
   "outputs": [
    {
     "data": {
      "text/html": [
       "<div>\n",
       "<style scoped>\n",
       "    .dataframe tbody tr th:only-of-type {\n",
       "        vertical-align: middle;\n",
       "    }\n",
       "\n",
       "    .dataframe tbody tr th {\n",
       "        vertical-align: top;\n",
       "    }\n",
       "\n",
       "    .dataframe thead th {\n",
       "        text-align: right;\n",
       "    }\n",
       "</style>\n",
       "<table border=\"1\" class=\"dataframe\">\n",
       "  <thead>\n",
       "    <tr style=\"text-align: right;\">\n",
       "      <th></th>\n",
       "      <th>Close</th>\n",
       "    </tr>\n",
       "    <tr>\n",
       "      <th>Date</th>\n",
       "      <th></th>\n",
       "    </tr>\n",
       "  </thead>\n",
       "  <tbody>\n",
       "    <tr>\n",
       "      <th>2019-01-02 16:00:00</th>\n",
       "      <td>202.80</td>\n",
       "    </tr>\n",
       "    <tr>\n",
       "      <th>2019-01-03 16:00:00</th>\n",
       "      <td>191.66</td>\n",
       "    </tr>\n",
       "    <tr>\n",
       "      <th>2019-01-04 16:00:00</th>\n",
       "      <td>195.20</td>\n",
       "    </tr>\n",
       "    <tr>\n",
       "      <th>2019-01-07 16:00:00</th>\n",
       "      <td>196.91</td>\n",
       "    </tr>\n",
       "    <tr>\n",
       "      <th>2019-01-08 16:00:00</th>\n",
       "      <td>196.31</td>\n",
       "    </tr>\n",
       "  </tbody>\n",
       "</table>\n",
       "</div>"
      ],
      "text/plain": [
       "                      Close\n",
       "Date                       \n",
       "2019-01-02 16:00:00  202.80\n",
       "2019-01-03 16:00:00  191.66\n",
       "2019-01-04 16:00:00  195.20\n",
       "2019-01-07 16:00:00  196.91\n",
       "2019-01-08 16:00:00  196.31"
      ]
     },
     "execution_count": 180,
     "metadata": {},
     "output_type": "execute_result"
    }
   ],
   "source": [
    "brkb_df.head()"
   ]
  },
  {
   "cell_type": "code",
   "execution_count": 181,
   "metadata": {},
   "outputs": [
    {
     "data": {
      "text/html": [
       "<div>\n",
       "<style scoped>\n",
       "    .dataframe tbody tr th:only-of-type {\n",
       "        vertical-align: middle;\n",
       "    }\n",
       "\n",
       "    .dataframe tbody tr th {\n",
       "        vertical-align: top;\n",
       "    }\n",
       "\n",
       "    .dataframe thead th {\n",
       "        text-align: right;\n",
       "    }\n",
       "</style>\n",
       "<table border=\"1\" class=\"dataframe\">\n",
       "  <thead>\n",
       "    <tr style=\"text-align: right;\">\n",
       "      <th></th>\n",
       "      <th>Close</th>\n",
       "      <th>Close</th>\n",
       "      <th>Close</th>\n",
       "      <th>Close</th>\n",
       "      <th>Close</th>\n",
       "    </tr>\n",
       "    <tr>\n",
       "      <th>Date</th>\n",
       "      <th></th>\n",
       "      <th></th>\n",
       "      <th></th>\n",
       "      <th></th>\n",
       "      <th></th>\n",
       "    </tr>\n",
       "  </thead>\n",
       "  <tbody>\n",
       "    <tr>\n",
       "      <th>2019-01-02 16:00:00</th>\n",
       "      <td>202.80</td>\n",
       "      <td>229.99</td>\n",
       "      <td>56.02</td>\n",
       "      <td>250.18</td>\n",
       "      <td>49.85</td>\n",
       "    </tr>\n",
       "    <tr>\n",
       "      <th>2019-01-03 16:00:00</th>\n",
       "      <td>191.66</td>\n",
       "      <td>224.50</td>\n",
       "      <td>56.22</td>\n",
       "      <td>244.21</td>\n",
       "      <td>47.37</td>\n",
       "    </tr>\n",
       "    <tr>\n",
       "      <th>2019-01-04 16:00:00</th>\n",
       "      <td>195.20</td>\n",
       "      <td>231.91</td>\n",
       "      <td>56.36</td>\n",
       "      <td>252.39</td>\n",
       "      <td>50.05</td>\n",
       "    </tr>\n",
       "    <tr>\n",
       "      <th>2019-01-07 16:00:00</th>\n",
       "      <td>196.91</td>\n",
       "      <td>233.65</td>\n",
       "      <td>56.72</td>\n",
       "      <td>254.38</td>\n",
       "      <td>50.64</td>\n",
       "    </tr>\n",
       "    <tr>\n",
       "      <th>2019-01-08 16:00:00</th>\n",
       "      <td>196.31</td>\n",
       "      <td>235.92</td>\n",
       "      <td>58.38</td>\n",
       "      <td>256.77</td>\n",
       "      <td>51.90</td>\n",
       "    </tr>\n",
       "  </tbody>\n",
       "</table>\n",
       "</div>"
      ],
      "text/plain": [
       "                      Close   Close  Close   Close  Close\n",
       "Date                                                     \n",
       "2019-01-02 16:00:00  202.80  229.99  56.02  250.18  49.85\n",
       "2019-01-03 16:00:00  191.66  224.50  56.22  244.21  47.37\n",
       "2019-01-04 16:00:00  195.20  231.91  56.36  252.39  50.05\n",
       "2019-01-07 16:00:00  196.91  233.65  56.72  254.38  50.64\n",
       "2019-01-08 16:00:00  196.31  235.92  58.38  256.77  51.90"
      ]
     },
     "execution_count": 181,
     "metadata": {},
     "output_type": "execute_result"
    }
   ],
   "source": [
    "combined_df = pd.concat([brkb_df, voo_df, vz_df, spy_df, ccl_df], axis=\"columns\", join=\"inner\")\n",
    "\n",
    "combined_df.head()"
   ]
  },
  {
   "cell_type": "code",
   "execution_count": null,
   "metadata": {},
   "outputs": [],
   "source": []
  },
  {
   "cell_type": "code",
   "execution_count": 182,
   "metadata": {},
   "outputs": [
    {
     "data": {
      "text/html": [
       "<div>\n",
       "<style scoped>\n",
       "    .dataframe tbody tr th:only-of-type {\n",
       "        vertical-align: middle;\n",
       "    }\n",
       "\n",
       "    .dataframe tbody tr th {\n",
       "        vertical-align: top;\n",
       "    }\n",
       "\n",
       "    .dataframe thead th {\n",
       "        text-align: right;\n",
       "    }\n",
       "</style>\n",
       "<table border=\"1\" class=\"dataframe\">\n",
       "  <thead>\n",
       "    <tr style=\"text-align: right;\">\n",
       "      <th></th>\n",
       "      <th>BRKB</th>\n",
       "      <th>VOO</th>\n",
       "      <th>VZ</th>\n",
       "      <th>SPY</th>\n",
       "      <th>CCL</th>\n",
       "    </tr>\n",
       "    <tr>\n",
       "      <th>Date</th>\n",
       "      <th></th>\n",
       "      <th></th>\n",
       "      <th></th>\n",
       "      <th></th>\n",
       "      <th></th>\n",
       "    </tr>\n",
       "  </thead>\n",
       "  <tbody>\n",
       "    <tr>\n",
       "      <th>2019-01-02 16:00:00</th>\n",
       "      <td>202.80</td>\n",
       "      <td>229.99</td>\n",
       "      <td>56.02</td>\n",
       "      <td>250.18</td>\n",
       "      <td>49.85</td>\n",
       "    </tr>\n",
       "    <tr>\n",
       "      <th>2019-01-03 16:00:00</th>\n",
       "      <td>191.66</td>\n",
       "      <td>224.50</td>\n",
       "      <td>56.22</td>\n",
       "      <td>244.21</td>\n",
       "      <td>47.37</td>\n",
       "    </tr>\n",
       "    <tr>\n",
       "      <th>2019-01-04 16:00:00</th>\n",
       "      <td>195.20</td>\n",
       "      <td>231.91</td>\n",
       "      <td>56.36</td>\n",
       "      <td>252.39</td>\n",
       "      <td>50.05</td>\n",
       "    </tr>\n",
       "    <tr>\n",
       "      <th>2019-01-07 16:00:00</th>\n",
       "      <td>196.91</td>\n",
       "      <td>233.65</td>\n",
       "      <td>56.72</td>\n",
       "      <td>254.38</td>\n",
       "      <td>50.64</td>\n",
       "    </tr>\n",
       "    <tr>\n",
       "      <th>2019-01-08 16:00:00</th>\n",
       "      <td>196.31</td>\n",
       "      <td>235.92</td>\n",
       "      <td>58.38</td>\n",
       "      <td>256.77</td>\n",
       "      <td>51.90</td>\n",
       "    </tr>\n",
       "  </tbody>\n",
       "</table>\n",
       "</div>"
      ],
      "text/plain": [
       "                       BRKB     VOO     VZ     SPY    CCL\n",
       "Date                                                     \n",
       "2019-01-02 16:00:00  202.80  229.99  56.02  250.18  49.85\n",
       "2019-01-03 16:00:00  191.66  224.50  56.22  244.21  47.37\n",
       "2019-01-04 16:00:00  195.20  231.91  56.36  252.39  50.05\n",
       "2019-01-07 16:00:00  196.91  233.65  56.72  254.38  50.64\n",
       "2019-01-08 16:00:00  196.31  235.92  58.38  256.77  51.90"
      ]
     },
     "execution_count": 182,
     "metadata": {},
     "output_type": "execute_result"
    }
   ],
   "source": [
    "combined_df.columns = ['BRKB', 'VOO', 'VZ', 'SPY', 'CCL']\n",
    "combined_df.head()"
   ]
  },
  {
   "cell_type": "code",
   "execution_count": 183,
   "metadata": {},
   "outputs": [
    {
     "data": {
      "text/html": [
       "<div>\n",
       "<style scoped>\n",
       "    .dataframe tbody tr th:only-of-type {\n",
       "        vertical-align: middle;\n",
       "    }\n",
       "\n",
       "    .dataframe tbody tr th {\n",
       "        vertical-align: top;\n",
       "    }\n",
       "\n",
       "    .dataframe thead th {\n",
       "        text-align: right;\n",
       "    }\n",
       "</style>\n",
       "<table border=\"1\" class=\"dataframe\">\n",
       "  <thead>\n",
       "    <tr style=\"text-align: right;\">\n",
       "      <th></th>\n",
       "      <th>BRKB</th>\n",
       "      <th>VOO</th>\n",
       "      <th>VZ</th>\n",
       "      <th>SPY</th>\n",
       "      <th>CCL</th>\n",
       "    </tr>\n",
       "    <tr>\n",
       "      <th>Date</th>\n",
       "      <th></th>\n",
       "      <th></th>\n",
       "      <th></th>\n",
       "      <th></th>\n",
       "      <th></th>\n",
       "    </tr>\n",
       "  </thead>\n",
       "  <tbody>\n",
       "    <tr>\n",
       "      <th>2021-04-30 16:00:00</th>\n",
       "      <td>274.95</td>\n",
       "      <td>383.57</td>\n",
       "      <td>57.79</td>\n",
       "      <td>417.30</td>\n",
       "      <td>27.96</td>\n",
       "    </tr>\n",
       "    <tr>\n",
       "      <th>2021-05-03 16:00:00</th>\n",
       "      <td>279.18</td>\n",
       "      <td>384.44</td>\n",
       "      <td>57.92</td>\n",
       "      <td>418.20</td>\n",
       "      <td>27.93</td>\n",
       "    </tr>\n",
       "    <tr>\n",
       "      <th>2021-05-04 16:00:00</th>\n",
       "      <td>280.26</td>\n",
       "      <td>382.10</td>\n",
       "      <td>58.60</td>\n",
       "      <td>415.62</td>\n",
       "      <td>26.68</td>\n",
       "    </tr>\n",
       "    <tr>\n",
       "      <th>2021-05-05 16:00:00</th>\n",
       "      <td>282.76</td>\n",
       "      <td>382.17</td>\n",
       "      <td>58.69</td>\n",
       "      <td>415.75</td>\n",
       "      <td>26.52</td>\n",
       "    </tr>\n",
       "    <tr>\n",
       "      <th>2021-05-06 16:00:00</th>\n",
       "      <td>289.71</td>\n",
       "      <td>385.28</td>\n",
       "      <td>59.29</td>\n",
       "      <td>419.07</td>\n",
       "      <td>25.95</td>\n",
       "    </tr>\n",
       "  </tbody>\n",
       "</table>\n",
       "</div>"
      ],
      "text/plain": [
       "                       BRKB     VOO     VZ     SPY    CCL\n",
       "Date                                                     \n",
       "2021-04-30 16:00:00  274.95  383.57  57.79  417.30  27.96\n",
       "2021-05-03 16:00:00  279.18  384.44  57.92  418.20  27.93\n",
       "2021-05-04 16:00:00  280.26  382.10  58.60  415.62  26.68\n",
       "2021-05-05 16:00:00  282.76  382.17  58.69  415.75  26.52\n",
       "2021-05-06 16:00:00  289.71  385.28  59.29  419.07  25.95"
      ]
     },
     "execution_count": 183,
     "metadata": {},
     "output_type": "execute_result"
    }
   ],
   "source": [
    "combined_df.tail()"
   ]
  },
  {
   "cell_type": "code",
   "execution_count": 184,
   "metadata": {},
   "outputs": [
    {
     "data": {
      "text/html": [
       "<div>\n",
       "<style scoped>\n",
       "    .dataframe tbody tr th:only-of-type {\n",
       "        vertical-align: middle;\n",
       "    }\n",
       "\n",
       "    .dataframe tbody tr th {\n",
       "        vertical-align: top;\n",
       "    }\n",
       "\n",
       "    .dataframe thead th {\n",
       "        text-align: right;\n",
       "    }\n",
       "</style>\n",
       "<table border=\"1\" class=\"dataframe\">\n",
       "  <thead>\n",
       "    <tr style=\"text-align: right;\">\n",
       "      <th></th>\n",
       "      <th>BRKB</th>\n",
       "      <th>VOO</th>\n",
       "      <th>VZ</th>\n",
       "      <th>SPY</th>\n",
       "      <th>CCL</th>\n",
       "    </tr>\n",
       "    <tr>\n",
       "      <th>Date</th>\n",
       "      <th></th>\n",
       "      <th></th>\n",
       "      <th></th>\n",
       "      <th></th>\n",
       "      <th></th>\n",
       "    </tr>\n",
       "  </thead>\n",
       "  <tbody>\n",
       "    <tr>\n",
       "      <th>2019-01-02 16:00:00</th>\n",
       "      <td>NaN</td>\n",
       "      <td>NaN</td>\n",
       "      <td>NaN</td>\n",
       "      <td>NaN</td>\n",
       "      <td>NaN</td>\n",
       "    </tr>\n",
       "    <tr>\n",
       "      <th>2019-01-03 16:00:00</th>\n",
       "      <td>-0.054931</td>\n",
       "      <td>-0.023871</td>\n",
       "      <td>0.003570</td>\n",
       "      <td>-0.023863</td>\n",
       "      <td>-0.049749</td>\n",
       "    </tr>\n",
       "    <tr>\n",
       "      <th>2019-01-04 16:00:00</th>\n",
       "      <td>0.018470</td>\n",
       "      <td>0.033007</td>\n",
       "      <td>0.002490</td>\n",
       "      <td>0.033496</td>\n",
       "      <td>0.056576</td>\n",
       "    </tr>\n",
       "    <tr>\n",
       "      <th>2019-01-07 16:00:00</th>\n",
       "      <td>0.008760</td>\n",
       "      <td>0.007503</td>\n",
       "      <td>0.006388</td>\n",
       "      <td>0.007885</td>\n",
       "      <td>0.011788</td>\n",
       "    </tr>\n",
       "    <tr>\n",
       "      <th>2019-01-08 16:00:00</th>\n",
       "      <td>-0.003047</td>\n",
       "      <td>0.009715</td>\n",
       "      <td>0.029267</td>\n",
       "      <td>0.009395</td>\n",
       "      <td>0.024882</td>\n",
       "    </tr>\n",
       "  </tbody>\n",
       "</table>\n",
       "</div>"
      ],
      "text/plain": [
       "                         BRKB       VOO        VZ       SPY       CCL\n",
       "Date                                                                 \n",
       "2019-01-02 16:00:00       NaN       NaN       NaN       NaN       NaN\n",
       "2019-01-03 16:00:00 -0.054931 -0.023871  0.003570 -0.023863 -0.049749\n",
       "2019-01-04 16:00:00  0.018470  0.033007  0.002490  0.033496  0.056576\n",
       "2019-01-07 16:00:00  0.008760  0.007503  0.006388  0.007885  0.011788\n",
       "2019-01-08 16:00:00 -0.003047  0.009715  0.029267  0.009395  0.024882"
      ]
     },
     "execution_count": 184,
     "metadata": {},
     "output_type": "execute_result"
    }
   ],
   "source": [
    "daily_returns = combined_df.pct_change()\n",
    "daily_returns.head()"
   ]
  },
  {
   "cell_type": "code",
   "execution_count": 185,
   "metadata": {},
   "outputs": [
    {
     "data": {
      "text/html": [
       "<div>\n",
       "<style scoped>\n",
       "    .dataframe tbody tr th:only-of-type {\n",
       "        vertical-align: middle;\n",
       "    }\n",
       "\n",
       "    .dataframe tbody tr th {\n",
       "        vertical-align: top;\n",
       "    }\n",
       "\n",
       "    .dataframe thead th {\n",
       "        text-align: right;\n",
       "    }\n",
       "</style>\n",
       "<table border=\"1\" class=\"dataframe\">\n",
       "  <thead>\n",
       "    <tr style=\"text-align: right;\">\n",
       "      <th></th>\n",
       "      <th>BRKB</th>\n",
       "      <th>VOO</th>\n",
       "      <th>VZ</th>\n",
       "      <th>SPY</th>\n",
       "      <th>CCL</th>\n",
       "    </tr>\n",
       "    <tr>\n",
       "      <th>Date</th>\n",
       "      <th></th>\n",
       "      <th></th>\n",
       "      <th></th>\n",
       "      <th></th>\n",
       "      <th></th>\n",
       "    </tr>\n",
       "  </thead>\n",
       "  <tbody>\n",
       "    <tr>\n",
       "      <th>2019-01-03 16:00:00</th>\n",
       "      <td>-0.054931</td>\n",
       "      <td>-0.023871</td>\n",
       "      <td>0.003570</td>\n",
       "      <td>-0.023863</td>\n",
       "      <td>-0.049749</td>\n",
       "    </tr>\n",
       "    <tr>\n",
       "      <th>2019-01-04 16:00:00</th>\n",
       "      <td>0.018470</td>\n",
       "      <td>0.033007</td>\n",
       "      <td>0.002490</td>\n",
       "      <td>0.033496</td>\n",
       "      <td>0.056576</td>\n",
       "    </tr>\n",
       "    <tr>\n",
       "      <th>2019-01-07 16:00:00</th>\n",
       "      <td>0.008760</td>\n",
       "      <td>0.007503</td>\n",
       "      <td>0.006388</td>\n",
       "      <td>0.007885</td>\n",
       "      <td>0.011788</td>\n",
       "    </tr>\n",
       "    <tr>\n",
       "      <th>2019-01-08 16:00:00</th>\n",
       "      <td>-0.003047</td>\n",
       "      <td>0.009715</td>\n",
       "      <td>0.029267</td>\n",
       "      <td>0.009395</td>\n",
       "      <td>0.024882</td>\n",
       "    </tr>\n",
       "    <tr>\n",
       "      <th>2019-01-09 16:00:00</th>\n",
       "      <td>0.000306</td>\n",
       "      <td>0.004620</td>\n",
       "      <td>-0.022782</td>\n",
       "      <td>0.004673</td>\n",
       "      <td>0.001734</td>\n",
       "    </tr>\n",
       "  </tbody>\n",
       "</table>\n",
       "</div>"
      ],
      "text/plain": [
       "                         BRKB       VOO        VZ       SPY       CCL\n",
       "Date                                                                 \n",
       "2019-01-03 16:00:00 -0.054931 -0.023871  0.003570 -0.023863 -0.049749\n",
       "2019-01-04 16:00:00  0.018470  0.033007  0.002490  0.033496  0.056576\n",
       "2019-01-07 16:00:00  0.008760  0.007503  0.006388  0.007885  0.011788\n",
       "2019-01-08 16:00:00 -0.003047  0.009715  0.029267  0.009395  0.024882\n",
       "2019-01-09 16:00:00  0.000306  0.004620 -0.022782  0.004673  0.001734"
      ]
     },
     "execution_count": 185,
     "metadata": {},
     "output_type": "execute_result"
    }
   ],
   "source": [
    "daily_returns = daily_returns.dropna()\n",
    "daily_returns.head()"
   ]
  },
  {
   "cell_type": "code",
   "execution_count": 186,
   "metadata": {},
   "outputs": [
    {
     "data": {
      "text/plain": [
       "Date\n",
       "2019-01-03 16:00:00   -0.029769\n",
       "2019-01-04 16:00:00    0.028808\n",
       "2019-01-07 16:00:00    0.008465\n",
       "2019-01-08 16:00:00    0.014042\n",
       "2019-01-09 16:00:00   -0.002290\n",
       "dtype: float64"
      ]
     },
     "execution_count": 186,
     "metadata": {},
     "output_type": "execute_result"
    }
   ],
   "source": [
    "weights = [1/5, 1/5, 1/5, 1/5, 1/5]\n",
    "\n",
    "portfolio_returns = daily_returns.dot(weights)\n",
    "portfolio_returns.head()"
   ]
  },
  {
   "cell_type": "code",
   "execution_count": 187,
   "metadata": {},
   "outputs": [
    {
     "data": {
      "text/plain": [
       "Date\n",
       "2021-04-30 16:00:00    0.002608\n",
       "2021-05-03 16:00:00    0.004197\n",
       "2021-05-04 16:00:00   -0.008280\n",
       "2021-05-05 16:00:00    0.000991\n",
       "2021-05-06 16:00:00    0.005886\n",
       "dtype: float64"
      ]
     },
     "execution_count": 187,
     "metadata": {},
     "output_type": "execute_result"
    }
   ],
   "source": [
    "portfolio_returns.tail()"
   ]
  },
  {
   "cell_type": "code",
   "execution_count": 188,
   "metadata": {},
   "outputs": [
    {
     "data": {
      "text/plain": [
       "Date\n",
       "2019-01-03 16:00:00   -0.029769\n",
       "2019-01-04 16:00:00   -0.001819\n",
       "2019-01-07 16:00:00    0.006631\n",
       "2019-01-08 16:00:00    0.020766\n",
       "2019-01-09 16:00:00    0.018429\n",
       "dtype: float64"
      ]
     },
     "execution_count": 188,
     "metadata": {},
     "output_type": "execute_result"
    }
   ],
   "source": [
    "cumulative_returns = (1 + portfolio_returns).cumprod() - 1\n",
    "cumulative_returns.head()"
   ]
  },
  {
   "cell_type": "code",
   "execution_count": 189,
   "metadata": {},
   "outputs": [
    {
     "data": {
      "text/plain": [
       "Date\n",
       "2021-04-30 16:00:00    0.312695\n",
       "2021-05-03 16:00:00    0.318205\n",
       "2021-05-04 16:00:00    0.307289\n",
       "2021-05-05 16:00:00    0.308585\n",
       "2021-05-06 16:00:00    0.316288\n",
       "dtype: float64"
      ]
     },
     "execution_count": 189,
     "metadata": {},
     "output_type": "execute_result"
    }
   ],
   "source": [
    "cumulative_returns = (1 + portfolio_returns).cumprod() - 1\n",
    "cumulative_returns.tail()"
   ]
  },
  {
   "cell_type": "code",
   "execution_count": 190,
   "metadata": {},
   "outputs": [
    {
     "data": {
      "text/plain": [
       "<AxesSubplot:xlabel='Date'>"
      ]
     },
     "execution_count": 190,
     "metadata": {},
     "output_type": "execute_result"
    },
    {
     "data": {
      "image/png": "[encoded data removed]",
      "text/plain": [
       "<Figure size 432x288 with 1 Axes>"
      ]
     },
     "metadata": {
      "needs_background": "light"
     },
     "output_type": "display_data"
    }
   ],
   "source": [
    "cumulative_returns.plot()"
   ]
  },
  {
   "cell_type": "code",
   "execution_count": 191,
   "metadata": {},
   "outputs": [],
   "source": [
    "#all_portfolio_std = cumulative_returns.std()\n",
    "#all_portfolio_std.head()"
   ]
  },
  {
   "cell_type": "code",
   "execution_count": 192,
   "metadata": {},
   "outputs": [
    {
     "data": {
      "text/plain": [
       "0.11624729235549479"
      ]
     },
     "execution_count": 192,
     "metadata": {},
     "output_type": "execute_result"
    }
   ],
   "source": [
    "all_portfolio_std=np.array(cumulative_returns, dtype=np.float64)\n",
    "all_portfolio_std.std()"
   ]
  },
  {
   "cell_type": "code",
   "execution_count": 193,
   "metadata": {},
   "outputs": [
    {
     "data": {
      "text/plain": [
       "1.8453685569435547"
      ]
     },
     "execution_count": 193,
     "metadata": {},
     "output_type": "execute_result"
    }
   ],
   "source": [
    "portfolio_annual_std = all_portfolio_std.std() * np.sqrt(252)\n",
    "portfolio_annual_std"
   ]
  },
  {
   "cell_type": "code",
   "execution_count": 194,
   "metadata": {},
   "outputs": [
    {
     "data": {
      "text/html": [
       "<div>\n",
       "<style scoped>\n",
       "    .dataframe tbody tr th:only-of-type {\n",
       "        vertical-align: middle;\n",
       "    }\n",
       "\n",
       "    .dataframe tbody tr th {\n",
       "        vertical-align: top;\n",
       "    }\n",
       "\n",
       "    .dataframe thead th {\n",
       "        text-align: right;\n",
       "    }\n",
       "</style>\n",
       "<table border=\"1\" class=\"dataframe\">\n",
       "  <thead>\n",
       "    <tr style=\"text-align: right;\">\n",
       "      <th></th>\n",
       "      <th>BRKB</th>\n",
       "      <th>VOO</th>\n",
       "      <th>VZ</th>\n",
       "      <th>SPY</th>\n",
       "      <th>CCL</th>\n",
       "    </tr>\n",
       "    <tr>\n",
       "      <th>Date</th>\n",
       "      <th></th>\n",
       "      <th></th>\n",
       "      <th></th>\n",
       "      <th></th>\n",
       "      <th></th>\n",
       "    </tr>\n",
       "  </thead>\n",
       "  <tbody>\n",
       "    <tr>\n",
       "      <th>2019-01-31 16:00:00</th>\n",
       "      <td>3.786630</td>\n",
       "      <td>5.662084</td>\n",
       "      <td>1.341613</td>\n",
       "      <td>6.155708</td>\n",
       "      <td>2.631103</td>\n",
       "    </tr>\n",
       "    <tr>\n",
       "      <th>2019-02-01 16:00:00</th>\n",
       "      <td>4.298648</td>\n",
       "      <td>5.600654</td>\n",
       "      <td>1.411310</td>\n",
       "      <td>6.081365</td>\n",
       "      <td>2.671338</td>\n",
       "    </tr>\n",
       "    <tr>\n",
       "      <th>2019-02-04 16:00:00</th>\n",
       "      <td>4.302568</td>\n",
       "      <td>4.796393</td>\n",
       "      <td>1.513665</td>\n",
       "      <td>5.188352</td>\n",
       "      <td>2.421265</td>\n",
       "    </tr>\n",
       "    <tr>\n",
       "      <th>2019-02-05 16:00:00</th>\n",
       "      <td>4.409486</td>\n",
       "      <td>4.779503</td>\n",
       "      <td>1.595671</td>\n",
       "      <td>5.164251</td>\n",
       "      <td>2.402194</td>\n",
       "    </tr>\n",
       "    <tr>\n",
       "      <th>2019-02-06 16:00:00</th>\n",
       "      <td>4.427091</td>\n",
       "      <td>4.737307</td>\n",
       "      <td>1.686803</td>\n",
       "      <td>5.122179</td>\n",
       "      <td>2.350008</td>\n",
       "    </tr>\n",
       "    <tr>\n",
       "      <th>...</th>\n",
       "      <td>...</td>\n",
       "      <td>...</td>\n",
       "      <td>...</td>\n",
       "      <td>...</td>\n",
       "      <td>...</td>\n",
       "    </tr>\n",
       "    <tr>\n",
       "      <th>2021-04-30 16:00:00</th>\n",
       "      <td>4.728918</td>\n",
       "      <td>4.598045</td>\n",
       "      <td>0.755086</td>\n",
       "      <td>4.988773</td>\n",
       "      <td>0.811539</td>\n",
       "    </tr>\n",
       "    <tr>\n",
       "      <th>2021-05-03 16:00:00</th>\n",
       "      <td>4.613967</td>\n",
       "      <td>3.901875</td>\n",
       "      <td>0.746663</td>\n",
       "      <td>4.240877</td>\n",
       "      <td>0.792544</td>\n",
       "    </tr>\n",
       "    <tr>\n",
       "      <th>2021-05-04 16:00:00</th>\n",
       "      <td>4.862741</td>\n",
       "      <td>3.585742</td>\n",
       "      <td>0.728853</td>\n",
       "      <td>3.902163</td>\n",
       "      <td>0.817081</td>\n",
       "    </tr>\n",
       "    <tr>\n",
       "      <th>2021-05-05 16:00:00</th>\n",
       "      <td>5.233743</td>\n",
       "      <td>3.158985</td>\n",
       "      <td>0.694785</td>\n",
       "      <td>3.445639</td>\n",
       "      <td>0.820589</td>\n",
       "    </tr>\n",
       "    <tr>\n",
       "      <th>2021-05-06 16:00:00</th>\n",
       "      <td>6.269391</td>\n",
       "      <td>2.784383</td>\n",
       "      <td>0.723470</td>\n",
       "      <td>3.038619</td>\n",
       "      <td>0.818817</td>\n",
       "    </tr>\n",
       "  </tbody>\n",
       "</table>\n",
       "<p>571 rows × 5 columns</p>\n",
       "</div>"
      ],
      "text/plain": [
       "                         BRKB       VOO        VZ       SPY       CCL\n",
       "Date                                                                 \n",
       "2019-01-31 16:00:00  3.786630  5.662084  1.341613  6.155708  2.631103\n",
       "2019-02-01 16:00:00  4.298648  5.600654  1.411310  6.081365  2.671338\n",
       "2019-02-04 16:00:00  4.302568  4.796393  1.513665  5.188352  2.421265\n",
       "2019-02-05 16:00:00  4.409486  4.779503  1.595671  5.164251  2.402194\n",
       "2019-02-06 16:00:00  4.427091  4.737307  1.686803  5.122179  2.350008\n",
       "...                       ...       ...       ...       ...       ...\n",
       "2021-04-30 16:00:00  4.728918  4.598045  0.755086  4.988773  0.811539\n",
       "2021-05-03 16:00:00  4.613967  3.901875  0.746663  4.240877  0.792544\n",
       "2021-05-04 16:00:00  4.862741  3.585742  0.728853  3.902163  0.817081\n",
       "2021-05-05 16:00:00  5.233743  3.158985  0.694785  3.445639  0.820589\n",
       "2021-05-06 16:00:00  6.269391  2.784383  0.723470  3.038619  0.818817\n",
       "\n",
       "[571 rows x 5 columns]"
      ]
     },
     "execution_count": 194,
     "metadata": {},
     "output_type": "execute_result"
    }
   ],
   "source": [
    "combined_df.rolling(window=21).std().dropna()"
   ]
  },
  {
   "cell_type": "code",
   "execution_count": 195,
   "metadata": {},
   "outputs": [
    {
     "data": {
      "text/plain": [
       "<AxesSubplot:xlabel='Date'>"
      ]
     },
     "execution_count": 195,
     "metadata": {},
     "output_type": "execute_result"
    },
    {
     "data": {
      "image/png": "[encoded data removed]",
      "text/plain": [
       "<Figure size 432x288 with 1 Axes>"
      ]
     },
     "metadata": {
      "needs_background": "light"
     },
     "output_type": "display_data"
    }
   ],
   "source": [
    "combined_df.rolling(window=21).std().plot()"
   ]
  },
  {
   "cell_type": "code",
   "execution_count": 196,
   "metadata": {},
   "outputs": [],
   "source": [
    "price_correlation = combined_df.corr()"
   ]
  },
  {
   "cell_type": "code",
   "execution_count": 197,
   "metadata": {},
   "outputs": [
    {
     "data": {
      "text/plain": [
       "<AxesSubplot:>"
      ]
     },
     "execution_count": 197,
     "metadata": {},
     "output_type": "execute_result"
    },
    {
     "data": {
      "image/png": "[encoded data removed]",
      "text/plain": [
       "<Figure size 432x288 with 2 Axes>"
      ]
     },
     "metadata": {
      "needs_background": "light"
     },
     "output_type": "display_data"
    }
   ],
   "source": [
    "sns.heatmap(price_correlation, vmin=-1, vmax=1)"
   ]
  },
  {
   "cell_type": "code",
   "execution_count": 198,
   "metadata": {},
   "outputs": [
    {
     "data": {
      "text/html": [
       "<div>\n",
       "<style scoped>\n",
       "    .dataframe tbody tr th:only-of-type {\n",
       "        vertical-align: middle;\n",
       "    }\n",
       "\n",
       "    .dataframe tbody tr th {\n",
       "        vertical-align: top;\n",
       "    }\n",
       "\n",
       "    .dataframe thead th {\n",
       "        text-align: right;\n",
       "    }\n",
       "</style>\n",
       "<table border=\"1\" class=\"dataframe\">\n",
       "  <thead>\n",
       "    <tr style=\"text-align: right;\">\n",
       "      <th></th>\n",
       "      <th>S&amp;P500</th>\n",
       "    </tr>\n",
       "    <tr>\n",
       "      <th>Date</th>\n",
       "      <th></th>\n",
       "    </tr>\n",
       "  </thead>\n",
       "  <tbody>\n",
       "    <tr>\n",
       "      <th>2019-01-02 16:00:00</th>\n",
       "      <td>2510.03</td>\n",
       "    </tr>\n",
       "    <tr>\n",
       "      <th>2019-01-03 16:00:00</th>\n",
       "      <td>2447.89</td>\n",
       "    </tr>\n",
       "    <tr>\n",
       "      <th>2019-01-04 16:00:00</th>\n",
       "      <td>2531.94</td>\n",
       "    </tr>\n",
       "    <tr>\n",
       "      <th>2019-01-07 16:00:00</th>\n",
       "      <td>2549.69</td>\n",
       "    </tr>\n",
       "    <tr>\n",
       "      <th>2019-01-08 16:00:00</th>\n",
       "      <td>2574.41</td>\n",
       "    </tr>\n",
       "  </tbody>\n",
       "</table>\n",
       "</div>"
      ],
      "text/plain": [
       "                      S&P500\n",
       "Date                        \n",
       "2019-01-02 16:00:00  2510.03\n",
       "2019-01-03 16:00:00  2447.89\n",
       "2019-01-04 16:00:00  2531.94\n",
       "2019-01-07 16:00:00  2549.69\n",
       "2019-01-08 16:00:00  2574.41"
      ]
     },
     "execution_count": 198,
     "metadata": {},
     "output_type": "execute_result"
    }
   ],
   "source": [
    "columns = [\"S&P500\"]\n",
    "sp500_df.columns = columns\n",
    "sp500_df.head()"
   ]
  },
  {
   "cell_type": "code",
   "execution_count": 199,
   "metadata": {},
   "outputs": [
    {
     "data": {
      "text/html": [
       "<div>\n",
       "<style scoped>\n",
       "    .dataframe tbody tr th:only-of-type {\n",
       "        vertical-align: middle;\n",
       "    }\n",
       "\n",
       "    .dataframe tbody tr th {\n",
       "        vertical-align: top;\n",
       "    }\n",
       "\n",
       "    .dataframe thead th {\n",
       "        text-align: right;\n",
       "    }\n",
       "</style>\n",
       "<table border=\"1\" class=\"dataframe\">\n",
       "  <thead>\n",
       "    <tr style=\"text-align: right;\">\n",
       "      <th></th>\n",
       "      <th>S&amp;P500</th>\n",
       "    </tr>\n",
       "    <tr>\n",
       "      <th>Date</th>\n",
       "      <th></th>\n",
       "    </tr>\n",
       "  </thead>\n",
       "  <tbody>\n",
       "    <tr>\n",
       "      <th>2019-01-02 16:00:00</th>\n",
       "      <td>NaN</td>\n",
       "    </tr>\n",
       "    <tr>\n",
       "      <th>2019-01-03 16:00:00</th>\n",
       "      <td>-0.024757</td>\n",
       "    </tr>\n",
       "    <tr>\n",
       "      <th>2019-01-04 16:00:00</th>\n",
       "      <td>0.034336</td>\n",
       "    </tr>\n",
       "    <tr>\n",
       "      <th>2019-01-07 16:00:00</th>\n",
       "      <td>0.007010</td>\n",
       "    </tr>\n",
       "    <tr>\n",
       "      <th>2019-01-08 16:00:00</th>\n",
       "      <td>0.009695</td>\n",
       "    </tr>\n",
       "  </tbody>\n",
       "</table>\n",
       "</div>"
      ],
      "text/plain": [
       "                       S&P500\n",
       "Date                         \n",
       "2019-01-02 16:00:00       NaN\n",
       "2019-01-03 16:00:00 -0.024757\n",
       "2019-01-04 16:00:00  0.034336\n",
       "2019-01-07 16:00:00  0.007010\n",
       "2019-01-08 16:00:00  0.009695"
      ]
     },
     "execution_count": 199,
     "metadata": {},
     "output_type": "execute_result"
    }
   ],
   "source": [
    "sp500_daily_returns = sp500_df.pct_change()\n",
    "sp500_daily_returns.head()"
   ]
  },
  {
   "cell_type": "code",
   "execution_count": 200,
   "metadata": {},
   "outputs": [
    {
     "data": {
      "text/html": [
       "<div>\n",
       "<style scoped>\n",
       "    .dataframe tbody tr th:only-of-type {\n",
       "        vertical-align: middle;\n",
       "    }\n",
       "\n",
       "    .dataframe tbody tr th {\n",
       "        vertical-align: top;\n",
       "    }\n",
       "\n",
       "    .dataframe thead th {\n",
       "        text-align: right;\n",
       "    }\n",
       "</style>\n",
       "<table border=\"1\" class=\"dataframe\">\n",
       "  <thead>\n",
       "    <tr style=\"text-align: right;\">\n",
       "      <th></th>\n",
       "      <th>S&amp;P500</th>\n",
       "    </tr>\n",
       "    <tr>\n",
       "      <th>Date</th>\n",
       "      <th></th>\n",
       "    </tr>\n",
       "  </thead>\n",
       "  <tbody>\n",
       "    <tr>\n",
       "      <th>2019-01-02 16:00:00</th>\n",
       "      <td>2510.03</td>\n",
       "    </tr>\n",
       "    <tr>\n",
       "      <th>2019-01-03 16:00:00</th>\n",
       "      <td>2447.89</td>\n",
       "    </tr>\n",
       "    <tr>\n",
       "      <th>2019-01-04 16:00:00</th>\n",
       "      <td>2531.94</td>\n",
       "    </tr>\n",
       "    <tr>\n",
       "      <th>2019-01-07 16:00:00</th>\n",
       "      <td>2549.69</td>\n",
       "    </tr>\n",
       "    <tr>\n",
       "      <th>2019-01-08 16:00:00</th>\n",
       "      <td>2574.41</td>\n",
       "    </tr>\n",
       "    <tr>\n",
       "      <th>...</th>\n",
       "      <td>...</td>\n",
       "    </tr>\n",
       "    <tr>\n",
       "      <th>2021-04-30 16:00:00</th>\n",
       "      <td>4181.17</td>\n",
       "    </tr>\n",
       "    <tr>\n",
       "      <th>2021-05-03 16:00:00</th>\n",
       "      <td>4192.66</td>\n",
       "    </tr>\n",
       "    <tr>\n",
       "      <th>2021-05-04 16:00:00</th>\n",
       "      <td>4164.66</td>\n",
       "    </tr>\n",
       "    <tr>\n",
       "      <th>2021-05-05 16:00:00</th>\n",
       "      <td>4167.59</td>\n",
       "    </tr>\n",
       "    <tr>\n",
       "      <th>2021-05-06 16:00:00</th>\n",
       "      <td>4201.62</td>\n",
       "    </tr>\n",
       "  </tbody>\n",
       "</table>\n",
       "<p>591 rows × 1 columns</p>\n",
       "</div>"
      ],
      "text/plain": [
       "                      S&P500\n",
       "Date                        \n",
       "2019-01-02 16:00:00  2510.03\n",
       "2019-01-03 16:00:00  2447.89\n",
       "2019-01-04 16:00:00  2531.94\n",
       "2019-01-07 16:00:00  2549.69\n",
       "2019-01-08 16:00:00  2574.41\n",
       "...                      ...\n",
       "2021-04-30 16:00:00  4181.17\n",
       "2021-05-03 16:00:00  4192.66\n",
       "2021-05-04 16:00:00  4164.66\n",
       "2021-05-05 16:00:00  4167.59\n",
       "2021-05-06 16:00:00  4201.62\n",
       "\n",
       "[591 rows x 1 columns]"
      ]
     },
     "execution_count": 200,
     "metadata": {},
     "output_type": "execute_result"
    }
   ],
   "source": [
    "sp500_df.dropna()"
   ]
  },
  {
   "cell_type": "code",
   "execution_count": 201,
   "metadata": {},
   "outputs": [
    {
     "data": {
      "text/plain": [
       "0.000214545423017864"
      ]
     },
     "execution_count": 201,
     "metadata": {},
     "output_type": "execute_result"
    }
   ],
   "source": [
    "brkb_covariance = daily_returns['BRKB'].cov(sp500_daily_returns['S&P500'])\n",
    "brkb_covariance"
   ]
  },
  {
   "cell_type": "code",
   "execution_count": 202,
   "metadata": {},
   "outputs": [
    {
     "data": {
      "text/plain": [
       "0.00023839267104067147"
      ]
     },
     "execution_count": 202,
     "metadata": {},
     "output_type": "execute_result"
    }
   ],
   "source": [
    "voo_covariance = daily_returns['VOO'].cov(sp500_daily_returns['S&P500'])\n",
    "voo_covariance"
   ]
  },
  {
   "cell_type": "code",
   "execution_count": 203,
   "metadata": {},
   "outputs": [
    {
     "data": {
      "text/plain": [
       "0.00011774523619652904"
      ]
     },
     "execution_count": 203,
     "metadata": {},
     "output_type": "execute_result"
    }
   ],
   "source": [
    "vz_covariance = daily_returns['VZ'].cov(sp500_daily_returns['S&P500'])\n",
    "vz_covariance"
   ]
  },
  {
   "cell_type": "code",
   "execution_count": 204,
   "metadata": {},
   "outputs": [
    {
     "data": {
      "text/plain": [
       "0.00023377122082493144"
      ]
     },
     "execution_count": 204,
     "metadata": {},
     "output_type": "execute_result"
    }
   ],
   "source": [
    "spy_covariance = daily_returns['SPY'].cov(sp500_daily_returns['S&P500'])\n",
    "spy_covariance"
   ]
  },
  {
   "cell_type": "code",
   "execution_count": 205,
   "metadata": {},
   "outputs": [
    {
     "data": {
      "text/plain": [
       "0.00043297340519502246"
      ]
     },
     "execution_count": 205,
     "metadata": {},
     "output_type": "execute_result"
    }
   ],
   "source": [
    "ccl_covariance = daily_returns['CCL'].cov(sp500_daily_returns['S&P500'])\n",
    "ccl_covariance"
   ]
  },
  {
   "cell_type": "code",
   "execution_count": 206,
   "metadata": {},
   "outputs": [],
   "source": [
    "rolling_brkb_covariance = daily_returns['BRKB'].rolling(window=60).cov(sp500_daily_returns['S&P500'])\n",
    "rolling_voo_covariance = daily_returns['VOO'].rolling(window=60).cov(sp500_daily_returns['S&P500'])\n",
    "rolling_vz_covariance = daily_returns['VZ'].rolling(window=60).cov(sp500_daily_returns['S&P500'])\n",
    "rolling_spy_covariance = daily_returns['SPY'].rolling(window=60).cov(sp500_daily_returns['S&P500'])\n",
    "rolling_ccl_covariance = daily_returns['CCL'].rolling(window=60).cov(sp500_daily_returns['S&P500'])"
   ]
  },
  {
   "cell_type": "code",
   "execution_count": 207,
   "metadata": {},
   "outputs": [],
   "source": [
    "rolling_variance = sp500_daily_returns['S&P500'].rolling(window=60).var()"
   ]
  },
  {
   "cell_type": "code",
   "execution_count": 208,
   "metadata": {},
   "outputs": [],
   "source": [
    "rolling_brkb_beta = rolling_brkb_covariance / rolling_variance\n",
    "rolling_voo_beta = rolling_voo_covariance / rolling_variance\n",
    "rolling_vz_beta = rolling_vz_covariance / rolling_variance\n",
    "rolling_spy_beta = rolling_spy_covariance / rolling_variance\n",
    "rolling_ccl_beta = rolling_ccl_covariance / rolling_variance"
   ]
  },
  {
   "cell_type": "code",
   "execution_count": 209,
   "metadata": {},
   "outputs": [
    {
     "data": {
      "text/plain": [
       "<matplotlib.legend.Legend at 0x7fb8e8376f50>"
      ]
     },
     "execution_count": 209,
     "metadata": {},
     "output_type": "execute_result"
    },
    {
     "data": {
      "image/png": "[encoded data removed]",
      "text/plain": [
       "<Figure size 1440x720 with 1 Axes>"
      ]
     },
     "metadata": {
      "needs_background": "light"
     },
     "output_type": "display_data"
    }
   ],
   "source": [
    "ax = rolling_brkb_beta.plot(figsize=(20, 10), title='Rolling 60-Day Beta Analysis')\n",
    "rolling_voo_beta.plot(ax=ax)\n",
    "rolling_vz_beta.plot(ax=ax)\n",
    "rolling_spy_beta.plot(ax=ax)\n",
    "rolling_ccl_beta.plot(ax=ax)\n",
    "\n",
    "ax.legend(['BRKB', 'VOO', 'VZ', 'SPY', 'CCL'])"
   ]
  },
  {
   "cell_type": "code",
   "execution_count": 210,
   "metadata": {},
   "outputs": [
    {
     "data": {
      "text/html": [
       "<div>\n",
       "<style scoped>\n",
       "    .dataframe tbody tr th:only-of-type {\n",
       "        vertical-align: middle;\n",
       "    }\n",
       "\n",
       "    .dataframe tbody tr th {\n",
       "        vertical-align: top;\n",
       "    }\n",
       "\n",
       "    .dataframe thead th {\n",
       "        text-align: right;\n",
       "    }\n",
       "</style>\n",
       "<table border=\"1\" class=\"dataframe\">\n",
       "  <thead>\n",
       "    <tr style=\"text-align: right;\">\n",
       "      <th></th>\n",
       "      <th>Close</th>\n",
       "      <th>Close</th>\n",
       "      <th>Close</th>\n",
       "      <th>Close</th>\n",
       "      <th>Close</th>\n",
       "      <th>S&amp;P500</th>\n",
       "    </tr>\n",
       "    <tr>\n",
       "      <th>Date</th>\n",
       "      <th></th>\n",
       "      <th></th>\n",
       "      <th></th>\n",
       "      <th></th>\n",
       "      <th></th>\n",
       "      <th></th>\n",
       "    </tr>\n",
       "  </thead>\n",
       "  <tbody>\n",
       "    <tr>\n",
       "      <th>2019-01-02 16:00:00</th>\n",
       "      <td>202.80</td>\n",
       "      <td>229.99</td>\n",
       "      <td>56.02</td>\n",
       "      <td>250.18</td>\n",
       "      <td>49.85</td>\n",
       "      <td>2510.03</td>\n",
       "    </tr>\n",
       "    <tr>\n",
       "      <th>2019-01-03 16:00:00</th>\n",
       "      <td>191.66</td>\n",
       "      <td>224.50</td>\n",
       "      <td>56.22</td>\n",
       "      <td>244.21</td>\n",
       "      <td>47.37</td>\n",
       "      <td>2447.89</td>\n",
       "    </tr>\n",
       "    <tr>\n",
       "      <th>2019-01-04 16:00:00</th>\n",
       "      <td>195.20</td>\n",
       "      <td>231.91</td>\n",
       "      <td>56.36</td>\n",
       "      <td>252.39</td>\n",
       "      <td>50.05</td>\n",
       "      <td>2531.94</td>\n",
       "    </tr>\n",
       "    <tr>\n",
       "      <th>2019-01-07 16:00:00</th>\n",
       "      <td>196.91</td>\n",
       "      <td>233.65</td>\n",
       "      <td>56.72</td>\n",
       "      <td>254.38</td>\n",
       "      <td>50.64</td>\n",
       "      <td>2549.69</td>\n",
       "    </tr>\n",
       "    <tr>\n",
       "      <th>2019-01-08 16:00:00</th>\n",
       "      <td>196.31</td>\n",
       "      <td>235.92</td>\n",
       "      <td>58.38</td>\n",
       "      <td>256.77</td>\n",
       "      <td>51.90</td>\n",
       "      <td>2574.41</td>\n",
       "    </tr>\n",
       "    <tr>\n",
       "      <th>...</th>\n",
       "      <td>...</td>\n",
       "      <td>...</td>\n",
       "      <td>...</td>\n",
       "      <td>...</td>\n",
       "      <td>...</td>\n",
       "      <td>...</td>\n",
       "    </tr>\n",
       "    <tr>\n",
       "      <th>2021-04-30 16:00:00</th>\n",
       "      <td>274.95</td>\n",
       "      <td>383.57</td>\n",
       "      <td>57.79</td>\n",
       "      <td>417.30</td>\n",
       "      <td>27.96</td>\n",
       "      <td>4181.17</td>\n",
       "    </tr>\n",
       "    <tr>\n",
       "      <th>2021-05-03 16:00:00</th>\n",
       "      <td>279.18</td>\n",
       "      <td>384.44</td>\n",
       "      <td>57.92</td>\n",
       "      <td>418.20</td>\n",
       "      <td>27.93</td>\n",
       "      <td>4192.66</td>\n",
       "    </tr>\n",
       "    <tr>\n",
       "      <th>2021-05-04 16:00:00</th>\n",
       "      <td>280.26</td>\n",
       "      <td>382.10</td>\n",
       "      <td>58.60</td>\n",
       "      <td>415.62</td>\n",
       "      <td>26.68</td>\n",
       "      <td>4164.66</td>\n",
       "    </tr>\n",
       "    <tr>\n",
       "      <th>2021-05-05 16:00:00</th>\n",
       "      <td>282.76</td>\n",
       "      <td>382.17</td>\n",
       "      <td>58.69</td>\n",
       "      <td>415.75</td>\n",
       "      <td>26.52</td>\n",
       "      <td>4167.59</td>\n",
       "    </tr>\n",
       "    <tr>\n",
       "      <th>2021-05-06 16:00:00</th>\n",
       "      <td>289.71</td>\n",
       "      <td>385.28</td>\n",
       "      <td>59.29</td>\n",
       "      <td>419.07</td>\n",
       "      <td>25.95</td>\n",
       "      <td>4201.62</td>\n",
       "    </tr>\n",
       "  </tbody>\n",
       "</table>\n",
       "<p>591 rows × 6 columns</p>\n",
       "</div>"
      ],
      "text/plain": [
       "                      Close   Close  Close   Close  Close   S&P500\n",
       "Date                                                              \n",
       "2019-01-02 16:00:00  202.80  229.99  56.02  250.18  49.85  2510.03\n",
       "2019-01-03 16:00:00  191.66  224.50  56.22  244.21  47.37  2447.89\n",
       "2019-01-04 16:00:00  195.20  231.91  56.36  252.39  50.05  2531.94\n",
       "2019-01-07 16:00:00  196.91  233.65  56.72  254.38  50.64  2549.69\n",
       "2019-01-08 16:00:00  196.31  235.92  58.38  256.77  51.90  2574.41\n",
       "...                     ...     ...    ...     ...    ...      ...\n",
       "2021-04-30 16:00:00  274.95  383.57  57.79  417.30  27.96  4181.17\n",
       "2021-05-03 16:00:00  279.18  384.44  57.92  418.20  27.93  4192.66\n",
       "2021-05-04 16:00:00  280.26  382.10  58.60  415.62  26.68  4164.66\n",
       "2021-05-05 16:00:00  282.76  382.17  58.69  415.75  26.52  4167.59\n",
       "2021-05-06 16:00:00  289.71  385.28  59.29  419.07  25.95  4201.62\n",
       "\n",
       "[591 rows x 6 columns]"
      ]
     },
     "execution_count": 210,
     "metadata": {},
     "output_type": "execute_result"
    }
   ],
   "source": [
    "sp500_combined_df = pd.concat([brkb_df, voo_df, vz_df, spy_df, ccl_df, sp500_df], axis=\"columns\", join=\"inner\")\n",
    "sp500_combined_df"
   ]
  },
  {
   "cell_type": "code",
   "execution_count": 211,
   "metadata": {},
   "outputs": [
    {
     "data": {
      "text/html": [
       "<div>\n",
       "<style scoped>\n",
       "    .dataframe tbody tr th:only-of-type {\n",
       "        vertical-align: middle;\n",
       "    }\n",
       "\n",
       "    .dataframe tbody tr th {\n",
       "        vertical-align: top;\n",
       "    }\n",
       "\n",
       "    .dataframe thead th {\n",
       "        text-align: right;\n",
       "    }\n",
       "</style>\n",
       "<table border=\"1\" class=\"dataframe\">\n",
       "  <thead>\n",
       "    <tr style=\"text-align: right;\">\n",
       "      <th></th>\n",
       "      <th>BRKB</th>\n",
       "      <th>VOO</th>\n",
       "      <th>VZ</th>\n",
       "      <th>SPY</th>\n",
       "      <th>CCL</th>\n",
       "      <th>S&amp;P500</th>\n",
       "    </tr>\n",
       "    <tr>\n",
       "      <th>Date</th>\n",
       "      <th></th>\n",
       "      <th></th>\n",
       "      <th></th>\n",
       "      <th></th>\n",
       "      <th></th>\n",
       "      <th></th>\n",
       "    </tr>\n",
       "  </thead>\n",
       "  <tbody>\n",
       "    <tr>\n",
       "      <th>2019-01-02 16:00:00</th>\n",
       "      <td>202.80</td>\n",
       "      <td>229.99</td>\n",
       "      <td>56.02</td>\n",
       "      <td>250.18</td>\n",
       "      <td>49.85</td>\n",
       "      <td>2510.03</td>\n",
       "    </tr>\n",
       "    <tr>\n",
       "      <th>2019-01-03 16:00:00</th>\n",
       "      <td>191.66</td>\n",
       "      <td>224.50</td>\n",
       "      <td>56.22</td>\n",
       "      <td>244.21</td>\n",
       "      <td>47.37</td>\n",
       "      <td>2447.89</td>\n",
       "    </tr>\n",
       "    <tr>\n",
       "      <th>2019-01-04 16:00:00</th>\n",
       "      <td>195.20</td>\n",
       "      <td>231.91</td>\n",
       "      <td>56.36</td>\n",
       "      <td>252.39</td>\n",
       "      <td>50.05</td>\n",
       "      <td>2531.94</td>\n",
       "    </tr>\n",
       "    <tr>\n",
       "      <th>2019-01-07 16:00:00</th>\n",
       "      <td>196.91</td>\n",
       "      <td>233.65</td>\n",
       "      <td>56.72</td>\n",
       "      <td>254.38</td>\n",
       "      <td>50.64</td>\n",
       "      <td>2549.69</td>\n",
       "    </tr>\n",
       "    <tr>\n",
       "      <th>2019-01-08 16:00:00</th>\n",
       "      <td>196.31</td>\n",
       "      <td>235.92</td>\n",
       "      <td>58.38</td>\n",
       "      <td>256.77</td>\n",
       "      <td>51.90</td>\n",
       "      <td>2574.41</td>\n",
       "    </tr>\n",
       "    <tr>\n",
       "      <th>...</th>\n",
       "      <td>...</td>\n",
       "      <td>...</td>\n",
       "      <td>...</td>\n",
       "      <td>...</td>\n",
       "      <td>...</td>\n",
       "      <td>...</td>\n",
       "    </tr>\n",
       "    <tr>\n",
       "      <th>2021-04-30 16:00:00</th>\n",
       "      <td>274.95</td>\n",
       "      <td>383.57</td>\n",
       "      <td>57.79</td>\n",
       "      <td>417.30</td>\n",
       "      <td>27.96</td>\n",
       "      <td>4181.17</td>\n",
       "    </tr>\n",
       "    <tr>\n",
       "      <th>2021-05-03 16:00:00</th>\n",
       "      <td>279.18</td>\n",
       "      <td>384.44</td>\n",
       "      <td>57.92</td>\n",
       "      <td>418.20</td>\n",
       "      <td>27.93</td>\n",
       "      <td>4192.66</td>\n",
       "    </tr>\n",
       "    <tr>\n",
       "      <th>2021-05-04 16:00:00</th>\n",
       "      <td>280.26</td>\n",
       "      <td>382.10</td>\n",
       "      <td>58.60</td>\n",
       "      <td>415.62</td>\n",
       "      <td>26.68</td>\n",
       "      <td>4164.66</td>\n",
       "    </tr>\n",
       "    <tr>\n",
       "      <th>2021-05-05 16:00:00</th>\n",
       "      <td>282.76</td>\n",
       "      <td>382.17</td>\n",
       "      <td>58.69</td>\n",
       "      <td>415.75</td>\n",
       "      <td>26.52</td>\n",
       "      <td>4167.59</td>\n",
       "    </tr>\n",
       "    <tr>\n",
       "      <th>2021-05-06 16:00:00</th>\n",
       "      <td>289.71</td>\n",
       "      <td>385.28</td>\n",
       "      <td>59.29</td>\n",
       "      <td>419.07</td>\n",
       "      <td>25.95</td>\n",
       "      <td>4201.62</td>\n",
       "    </tr>\n",
       "  </tbody>\n",
       "</table>\n",
       "<p>591 rows × 6 columns</p>\n",
       "</div>"
      ],
      "text/plain": [
       "                       BRKB     VOO     VZ     SPY    CCL   S&P500\n",
       "Date                                                              \n",
       "2019-01-02 16:00:00  202.80  229.99  56.02  250.18  49.85  2510.03\n",
       "2019-01-03 16:00:00  191.66  224.50  56.22  244.21  47.37  2447.89\n",
       "2019-01-04 16:00:00  195.20  231.91  56.36  252.39  50.05  2531.94\n",
       "2019-01-07 16:00:00  196.91  233.65  56.72  254.38  50.64  2549.69\n",
       "2019-01-08 16:00:00  196.31  235.92  58.38  256.77  51.90  2574.41\n",
       "...                     ...     ...    ...     ...    ...      ...\n",
       "2021-04-30 16:00:00  274.95  383.57  57.79  417.30  27.96  4181.17\n",
       "2021-05-03 16:00:00  279.18  384.44  57.92  418.20  27.93  4192.66\n",
       "2021-05-04 16:00:00  280.26  382.10  58.60  415.62  26.68  4164.66\n",
       "2021-05-05 16:00:00  282.76  382.17  58.69  415.75  26.52  4167.59\n",
       "2021-05-06 16:00:00  289.71  385.28  59.29  419.07  25.95  4201.62\n",
       "\n",
       "[591 rows x 6 columns]"
      ]
     },
     "execution_count": 211,
     "metadata": {},
     "output_type": "execute_result"
    }
   ],
   "source": [
    "sp500_combined_df.columns = ['BRKB', 'VOO', 'VZ', 'SPY', 'CCL', 'S&P500']\n",
    "sp500_combined_df"
   ]
  },
  {
   "cell_type": "code",
   "execution_count": 214,
   "metadata": {},
   "outputs": [
    {
     "data": {
      "text/plain": [
       "array([-0.34231965, -5.60370228,  1.53683118,  0.49071947,  0.55295392,\n",
       "        0.43632331,  0.40825885,  0.47838931,  0.33622743,  0.35826649,\n",
       "        0.29812757,  0.19684036,  0.25154249,  0.23393754,  0.2308945 ,\n",
       "        0.20846741,  0.24136732,  0.2867848 ,  0.19154323,  0.16688468,\n",
       "        0.16015998,  0.15509976,  0.14851981,  0.1594442 ,  0.20553834,\n",
       "        0.20571697,  0.19197906,  0.16371221,  0.15616864,  0.17095558,\n",
       "        0.14179743,  0.13057178,  0.12314947,  0.12785931,  0.12169546,\n",
       "        0.12229265,  0.12603194,  0.12856771,  0.13004846,  0.12189716,\n",
       "        0.13952925,  0.13844453,  0.15692114,  0.17143512,  0.17799944,\n",
       "        0.14016274,  0.13865614,  0.12409747,  0.12192169,  0.11569372,\n",
       "        0.10861057,  0.11411126,  0.12092961,  0.10802114,  0.12114319,\n",
       "        0.12044537,  0.14125399,  0.1566618 ,  0.16818401,  0.15601318,\n",
       "        0.12629237,  0.13000419,  0.12199001,  0.11966013,  0.11474385,\n",
       "        0.11722573,  0.12882701,  0.12355689,  0.11947386,  0.10448084,\n",
       "        0.10508676,  0.09793487,  0.10544485,  0.10792893,  0.10927128,\n",
       "        0.10445857,  0.10703609,  0.11063069,  0.10018216,  0.09629698,\n",
       "        0.09321909,  0.09495915,  0.10036787,  0.09024774,  0.09897008,\n",
       "        0.1184185 ,  0.11905063,  0.12192305,  0.11396534,  0.15086199,\n",
       "        0.13881082,  0.13398027,  0.12060531,  0.12425066,  0.13282486,\n",
       "        0.12117696,  0.12582151,  0.14790955,  0.14200855,  0.16409609,\n",
       "        0.17747122,  0.18604925,  0.28324367,  0.23432644,  0.17000877,\n",
       "        0.16230259,  0.14533519,  0.1292518 ,  0.12415876,  0.12130148,\n",
       "        0.12135017,  0.11978738,  0.115434  ,  0.1259524 ,  0.1167268 ,\n",
       "        0.11052981,  0.12756812,  0.14901326,  0.15102637,  0.16709187,\n",
       "        0.1787904 ,  0.15816286,  0.14489097,  0.14037215,  0.12678349,\n",
       "        0.12312906,  0.11791228,  0.1270826 ,  0.14056843,  0.1374734 ,\n",
       "        0.13513929,  0.12518473,  0.11895663,  0.12646023,  0.15051261,\n",
       "        0.14752916,  0.16850027,  0.18097248,  0.15435645,  0.1346309 ,\n",
       "        0.14005875,  0.12200202,  0.12295793,  0.13008819,  0.1562968 ,\n",
       "        0.18497747,  0.1995892 ,  0.35655006,  0.28518283,  0.28798768,\n",
       "        0.19103916,  0.21820268,  0.27271562,  0.20470745,  0.39087409,\n",
       "        0.3381802 ,  0.24339723,  0.19134793,  0.23926177,  0.19953905,\n",
       "        0.20559398,  0.44000177,  0.29381309,  0.33173313,  0.25265462,\n",
       "        0.19828698,  0.1936943 ,  0.22534307,  0.19324752,  0.1505358 ,\n",
       "        0.13935   ,  0.12323462,  0.10434729,  0.09677125,  0.09443979,\n",
       "        0.09059879,  0.1031822 ,  0.09882521,  0.09988329,  0.10365271,\n",
       "        0.10800821,  0.11121338,  0.11687384,  0.10986246,  0.14253883,\n",
       "        0.15118196,  0.14375895,  0.17996497,  0.27592037,  0.25256706,\n",
       "        0.1921079 ,  0.20204676,  0.29227845,  0.24421774,  0.20784088,\n",
       "        0.175527  ,  0.17335519,  0.14543713,  0.15013744,  0.14752962,\n",
       "        0.14266168,  0.13101482,  0.14026222,  0.12434181,  0.1267688 ,\n",
       "        0.11807763,  0.11673893,  0.11689168,  0.11787146,  0.12483237,\n",
       "        0.11456726,  0.10457674,  0.10018855,  0.09900973,  0.09258601,\n",
       "        0.09668367,  0.09870405,  0.09978637,  0.10249628,  0.10063235,\n",
       "        0.09475529,  0.09572723,  0.09692084,  0.10416648,  0.10899993,\n",
       "        0.10224011,  0.09530562,  0.09221555,  0.08663085,  0.08817451,\n",
       "        0.09441473,  0.10339139,  0.09724911,  0.09308242,  0.0844059 ,\n",
       "        0.08446218,  0.08461458,  0.08168368,  0.07392804,  0.07339681,\n",
       "        0.07132372,  0.07019837,  0.07395987,  0.07279839,  0.06202483,\n",
       "        0.06166382,  0.06238615,  0.06044007,  0.06024805,  0.06230919,\n",
       "        0.06163711,  0.05911246,  0.06464059,  0.06672554,  0.06862116,\n",
       "        0.06682431,  0.06485554,  0.06675879,  0.06343258,  0.06280591,\n",
       "        0.06146063,  0.05739251,  0.05541059,  0.05771393,  0.05841168,\n",
       "        0.05894257,  0.06530748,  0.07731967,  0.06915176,  0.0712603 ,\n",
       "        0.07349942,  0.08416439,  0.08926947,  0.07977941,  0.07140224,\n",
       "        0.07049346,  0.0762666 ,  0.07518187,  0.0743354 ,  0.07065944,\n",
       "        0.07280896,  0.07420362,  0.07522428,  0.07098472,  0.07508975,\n",
       "        0.0794437 ,  0.12183949,  0.19325839,  0.30587864, -1.16873004,\n",
       "       -1.94571277,  0.31476278, -9.11883609,  0.27652725, -0.55965652,\n",
       "       -0.30313377, -0.08655792, -0.14362359, -0.08509504, -0.04298932,\n",
       "       -0.06508411, -0.04082398, -0.04377736, -0.03369011, -0.03495335,\n",
       "       -0.03577668, -0.03355793, -0.04153387, -0.04658402, -0.06244248,\n",
       "       -0.04815558, -0.04853814, -0.04775641, -0.03537775, -0.03568933,\n",
       "       -0.03601965, -0.04555868, -0.04944771, -0.05710592, -0.0613126 ,\n",
       "       -0.05411969, -0.06511668, -0.05895974, -0.0576711 , -0.06672731,\n",
       "       -0.06121422, -0.05357103, -0.05669846, -0.05847458, -0.05947673,\n",
       "       -0.06741122, -0.07626097, -0.10757691, -0.09197354, -0.0685034 ,\n",
       "       -0.06843498, -0.0630503 , -0.05876647, -0.0639207 , -0.0739296 ,\n",
       "       -0.0697508 , -0.06149453, -0.05438233, -0.05573816, -0.05765529,\n",
       "       -0.07683653, -0.06778166, -0.07222188, -0.07277436, -0.07249947,\n",
       "       -0.09379504, -0.12023216, -0.10387934, -0.1098164 , -0.11875291,\n",
       "       -0.13079364, -0.16272639, -0.21350377,  2.89684878,  0.24137329,\n",
       "        0.59825944, -0.92118152, -0.12203086, -0.20855341, -0.19819936,\n",
       "       -0.32763373, -0.21288491, -0.20526393, -0.15398074, -0.14307765,\n",
       "       -0.16236727, -0.101686  , -0.108552  , -0.09083605, -0.11359319,\n",
       "       -0.11844543, -0.11817891, -0.11527819, -0.12675956, -0.10325108,\n",
       "       -0.11913588, -0.09843746, -0.13674407, -0.11744204, -0.13413509,\n",
       "       -0.23648834, -0.17002247, -0.16683713, -0.1557824 , -0.16814729,\n",
       "       -0.17111651, -0.15253827, -0.15763184, -0.13163623, -0.14972013,\n",
       "       -0.17799086, -0.15648461, -0.15424772, -0.14163096, -0.17614419,\n",
       "       -0.2050741 , -0.21171397, -0.2880871 , -0.76864282, -0.7746464 ,\n",
       "       -0.69241424, -0.61930798, -0.76870943, -0.3917309 , -0.39220734,\n",
       "       -0.38416159, -0.37156863, -0.43860046,  1.37731437,  1.73298283,\n",
       "        2.83071232,  0.58429391,  0.29256694,  0.42234185,  0.35826895,\n",
       "        0.22840492,  0.26802711,  0.2234806 ,  0.34977105,  0.31672994,\n",
       "        0.42323799,  0.43970712,  0.29899058,  0.72967939,  0.53852716,\n",
       "        0.85349443, -1.76133111, -0.33332848, -0.43757936, -0.23555439,\n",
       "       -0.21494857, -0.49436705, -1.24545336, -0.5783082 , -1.0168367 ,\n",
       "       -0.97603558, -0.7314336 , -1.43726238, -0.83092598,  1.2257614 ,\n",
       "        1.3713918 ,  0.78216209,  0.68874666, -1.26350999, -0.64430287,\n",
       "       -0.64464039, -0.66251463, -0.39760331, -0.6023763 , -0.48528363,\n",
       "       -1.72282338, 11.55743713, -0.35974888, -0.28053887, -0.1284244 ,\n",
       "       -0.1613814 , -0.18346028, -0.20870821, -0.27145111, -0.28077247,\n",
       "       -0.82881072, -0.69059351,  0.12139595,  0.15355609,  0.16587525,\n",
       "        0.27215375,  0.16553934,  0.11054565,  0.10677224,  0.12720811,\n",
       "        0.11528993,  0.14031642,  0.11546935,  0.08122298,  0.07973502,\n",
       "        0.07366248,  0.08770113,  0.08193542,  0.07267932,  0.06344291,\n",
       "        0.05993591,  0.06224376,  0.06062239,  0.06593746,  0.06938648,\n",
       "        0.07579261,  0.08264199,  0.07301398,  0.07395534,  0.07168149,\n",
       "        0.07383488,  0.07919925,  0.09263738,  0.08133328,  0.07971689,\n",
       "        0.07098481,  0.07268869,  0.07169406,  0.0689615 ,  0.08154198,\n",
       "        0.07934465,  0.0757805 ,  0.07043465,  0.07147861,  0.07609427,\n",
       "        0.07679567,  0.07594517,  0.07161834,  0.07414029,  0.07194994,\n",
       "        0.06887533,  0.06913916,  0.07300163,  0.07604767,  0.08576183,\n",
       "        0.10062825,  0.08616425,  0.11112541,  0.10194541,  0.0867038 ,\n",
       "        0.07783738,  0.06921868,  0.06702865,  0.06379848,  0.06549206,\n",
       "        0.06620126,  0.06762251,  0.06678838,  0.0580469 ,  0.0520979 ,\n",
       "        0.0540263 ,  0.05054863,  0.04751995,  0.04576243,  0.04309624,\n",
       "        0.05018807,  0.04987342,  0.0460993 ,  0.04479825,  0.04342395,\n",
       "        0.04873663,  0.04647571,  0.04426818,  0.04173882,  0.04109609,\n",
       "        0.04067186,  0.03920255,  0.03781453,  0.04033384,  0.03899163,\n",
       "        0.04056555,  0.04014745,  0.04143702,  0.04590149,  0.04706718,\n",
       "        0.04397988,  0.04073478,  0.04067193,  0.03956318,  0.04011751,\n",
       "        0.0383486 ,  0.03494126,  0.034277  ,  0.03378546,  0.03467435,\n",
       "        0.03326973,  0.03456702,  0.03437076,  0.03435029,  0.03419175,\n",
       "        0.03368358,  0.03426953,  0.03639777,  0.03353682,  0.03530596,\n",
       "        0.03395977,  0.03383892,  0.03359733,  0.0336471 ,  0.03294883,\n",
       "        0.03258897,  0.0320247 ,  0.03316225,  0.03302302,  0.03221877])"
      ]
     },
     "execution_count": 214,
     "metadata": {},
     "output_type": "execute_result"
    }
   ],
   "source": [
    "brkb_sharpe_ratios = (portfolio_returns.mean() * 252) / (all_portfolio_std * np.sqrt(252))\n",
    "brkb_sharpe_ratios"
   ]
  },
  {
   "cell_type": "code",
   "execution_count": 216,
   "metadata": {},
   "outputs": [
    {
     "ename": "AttributeError",
     "evalue": "'numpy.ndarray' object has no attribute 'plot'",
     "output_type": "error",
     "traceback": [
      "\u001b[0;31m---------------------------------------------------------------------------\u001b[0m",
      "\u001b[0;31mAttributeError\u001b[0m                            Traceback (most recent call last)",
      "\u001b[0;32m<ipython-input-216-e4ce6b7b6b52>\u001b[0m in \u001b[0;36m<module>\u001b[0;34m\u001b[0m\n\u001b[0;32m----> 1\u001b[0;31m \u001b[0mbrkb_sharpe_ratios\u001b[0m\u001b[0;34m.\u001b[0m\u001b[0mplot\u001b[0m\u001b[0;34m.\u001b[0m\u001b[0mbar\u001b[0m\u001b[0;34m\u001b[0m\u001b[0;34m\u001b[0m\u001b[0m\n\u001b[0m",
      "\u001b[0;31mAttributeError\u001b[0m: 'numpy.ndarray' object has no attribute 'plot'"
     ]
    }
   ],
   "source": [
    "brkb_sharpe_ratios.plot.bar(title='Sharpe Ratios')"
   ]
  },
  {
   "cell_type": "code",
   "execution_count": null,
   "metadata": {},
   "outputs": [],
   "source": []
  },
  {
   "cell_type": "code",
   "execution_count": null,
   "metadata": {},
   "outputs": [],
   "source": []
  }
 ],
 "metadata": {
  "kernelspec": {
   "display_name": "Python 3",
   "language": "python",
   "name": "python3"
  },
  "language_info": {
   "codemirror_mode": {
    "name": "ipython",
    "version": 3
   },
   "file_extension": ".py",
   "mimetype": "text/x-python",
   "name": "python",
   "nbconvert_exporter": "python",
   "pygments_lexer": "ipython3",
   "version": "3.7.9"
  }
 },
 "nbformat": 4,
 "nbformat_minor": 4
}
